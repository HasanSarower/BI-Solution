{
 "cells": [
  {
   "cell_type": "code",
   "execution_count": 21,
   "metadata": {},
   "outputs": [],
   "source": [
    "import keys\n",
    "import datetime\n",
    "import pandas as pd\n",
    "import numpy as np\n",
    "from sklearn.preprocessing import MinMaxScaler\n",
    "from binance.client import Client\n",
    "from keras.models import Sequential\n",
    "from keras.layers import Dense\n",
    "from keras.layers import LSTM\n",
    "%matplotlib inline"
   ]
  },
  {
   "cell_type": "code",
   "execution_count": 9,
   "metadata": {},
   "outputs": [],
   "source": [
    "BTC = pd.read_csv('raw.csv')\n",
    "BTC = BTC.fillna(0)"
   ]
  },
  {
   "cell_type": "code",
   "execution_count": 10,
   "metadata": {},
   "outputs": [],
   "source": [
    "BTC['Timestamp'] = pd.to_datetime(BTC['Timestamp'], unit='s')"
   ]
  },
  {
   "cell_type": "code",
   "execution_count": 11,
   "metadata": {},
   "outputs": [],
   "source": [
    "BTC.set_index('Timestamp', inplace = True)"
   ]
  },
  {
   "cell_type": "code",
   "execution_count": 12,
   "metadata": {},
   "outputs": [
    {
     "data": {
      "text/plain": [
       "<matplotlib.axes._subplots.AxesSubplot at 0x2b2f5d0b860>"
      ]
     },
     "execution_count": 12,
     "metadata": {},
     "output_type": "execute_result"
    },
    {
     "data": {
      "image/png": "[encoded data removed]",
      "text/plain": [
       "<Figure size 1440x720 with 1 Axes>"
      ]
     },
     "metadata": {
      "needs_background": "light"
     },
     "output_type": "display_data"
    }
   ],
   "source": [
    "BTC['Close'] = BTC['Close'].astype(float)\n",
    "BTC['Close'].plot(figsize=(20,10),title = 'Bitcoin price')"
   ]
  },
  {
   "cell_type": "code",
   "execution_count": 13,
   "metadata": {},
   "outputs": [],
   "source": [
    "data = BTC.iloc[:,3:4].astype(float).values"
   ]
  },
  {
   "cell_type": "code",
   "execution_count": 14,
   "metadata": {},
   "outputs": [],
   "source": [
    "scaler = MinMaxScaler()"
   ]
  },
  {
   "cell_type": "code",
   "execution_count": 15,
   "metadata": {},
   "outputs": [],
   "source": [
    "data = scaler.fit_transform(data)"
   ]
  },
  {
   "cell_type": "code",
   "execution_count": 16,
   "metadata": {},
   "outputs": [],
   "source": [
    "training_set = data[:10000]\n",
    "test_set = data[10000:]"
   ]
  },
  {
   "cell_type": "code",
   "execution_count": 17,
   "metadata": {},
   "outputs": [],
   "source": [
    "X_train = training_set[0:len(training_set)-1]\n",
    "Y_train = training_set[1:len(training_set)]"
   ]
  },
  {
   "cell_type": "code",
   "execution_count": 18,
   "metadata": {},
   "outputs": [],
   "source": [
    "X_test = test_set[0:len(test_set)-1]\n",
    "Y_test = X_test = test_set[1:len(test_set)]"
   ]
  },
  {
   "cell_type": "code",
   "execution_count": 19,
   "metadata": {},
   "outputs": [],
   "source": [
    "X_train = np.reshape(X_train,(len(X_train),1,X_train.shape[1]))\n",
    "X_test = np.reshape(X_test,(len(X_test),1,X_test.shape[1]))"
   ]
  },
  {
   "cell_type": "code",
   "execution_count": 22,
   "metadata": {},
   "outputs": [],
   "source": [
    "model = Sequential()\n",
    "model.add(LSTM(256, return_sequences=True,input_shape=(X_train.shape[1],X_train.shape[2])))\n",
    "model.add(LSTM(256))\n",
    "model.add(Dense(1))"
   ]
  },
  {
   "cell_type": "code",
   "execution_count": 23,
   "metadata": {},
   "outputs": [
    {
     "name": "stdout",
     "output_type": "stream",
     "text": [
      "Epoch 1/50\n",
      "9999/9999 [==============================] - 17s 2ms/step - loss: 5.8714e-08\n",
      "Epoch 2/50\n",
      "9999/9999 [==============================] - 15s 2ms/step - loss: 1.5041e-08\n",
      "Epoch 3/50\n",
      "9999/9999 [==============================] - 15s 1ms/step - loss: 1.6977e-08\n",
      "Epoch 4/50\n",
      "9999/9999 [==============================] - 15s 2ms/step - loss: 1.3610e-08\n",
      "Epoch 5/50\n",
      "9999/9999 [==============================] - 15s 2ms/step - loss: 1.1462e-08\n",
      "Epoch 6/50\n",
      "9999/9999 [==============================] - 16s 2ms/step - loss: 1.0022e-08: \n",
      "Epoch 7/50\n",
      "9999/9999 [==============================] - 17s 2ms/step - loss: 9.1382e-09\n",
      "Epoch 8/50\n",
      "9999/9999 [==============================] - 16s 2ms/step - loss: 8.5410e-09\n",
      "Epoch 9/50\n",
      "9999/9999 [==============================] - 16s 2ms/step - loss: 7.5901e-09\n",
      "Epoch 10/50\n",
      "9999/9999 [==============================] - 16s 2ms/step - loss: 7.4790e-09: \n",
      "Epoch 11/50\n",
      "9999/9999 [==============================] - 16s 2ms/step - loss: 6.8341e-09\n",
      "Epoch 12/50\n",
      "9999/9999 [==============================] - 17s 2ms/step - loss: 5.9729e-09: 1s - loss: 4. - ETA:\n",
      "Epoch 13/50\n",
      "9999/9999 [==============================] - 16s 2ms/step - loss: 4.8948e-09\n",
      "Epoch 14/50\n",
      "9999/9999 [==============================] - 15s 2ms/step - loss: 4.5018e-09\n",
      "Epoch 15/50\n",
      "9999/9999 [==============================] - 16s 2ms/step - loss: 4.1153e-09: 0s - loss: 4.034 - ETA: 0s - loss: 4.1\n",
      "Epoch 16/50\n",
      "9999/9999 [==============================] - 16s 2ms/step - loss: 3.7406e-09\n",
      "Epoch 17/50\n",
      "9999/9999 [==============================] - 15s 2ms/step - loss: 3.4622e-09\n",
      "Epoch 18/50\n",
      "9999/9999 [==============================] - 16s 2ms/step - loss: 3.2217e-09\n",
      "Epoch 19/50\n",
      "9999/9999 [==============================] - 15s 2ms/step - loss: 3.0055e-09\n",
      "Epoch 20/50\n",
      "9999/9999 [==============================] - 16s 2ms/step - loss: 2.8141e-09\n",
      "Epoch 21/50\n",
      "9999/9999 [==============================] - 16s 2ms/step - loss: 2.6510e-09\n",
      "Epoch 22/50\n",
      "9999/9999 [==============================] - 16s 2ms/step - loss: 2.5214e-09\n",
      "Epoch 23/50\n",
      "9999/9999 [==============================] - 15s 2ms/step - loss: 2.4379e-09\n",
      "Epoch 24/50\n",
      "9999/9999 [==============================] - 15s 2ms/step - loss: 2.4132e-09\n",
      "Epoch 25/50\n",
      "9999/9999 [==============================] - 15s 2ms/step - loss: 2.4765e-09\n",
      "Epoch 26/50\n",
      "9999/9999 [==============================] - 16s 2ms/step - loss: 2.3396e-09\n",
      "Epoch 27/50\n",
      "9999/9999 [==============================] - 16s 2ms/step - loss: 2.2763e-09: 0s -\n",
      "Epoch 28/50\n",
      "9999/9999 [==============================] - 15s 2ms/step - loss: 2.2546e-09\n",
      "Epoch 29/50\n",
      "9999/9999 [==============================] - 16s 2ms/step - loss: 2.2470e-09\n",
      "Epoch 30/50\n",
      "9999/9999 [==============================] - 16s 2ms/step - loss: 2.2454e-09: \n",
      "Epoch 31/50\n",
      "9999/9999 [==============================] - 15s 2ms/step - loss: 2.2441e-09\n",
      "Epoch 32/50\n",
      "9999/9999 [==============================] - 15s 2ms/step - loss: 2.2429e-09\n",
      "Epoch 33/50\n",
      "9999/9999 [==============================] - 15s 2ms/step - loss: 2.2425e-09\n",
      "Epoch 34/50\n",
      "9999/9999 [==============================] - 16s 2ms/step - loss: 2.2427e-09:\n",
      "Epoch 35/50\n",
      "9999/9999 [==============================] - 15s 2ms/step - loss: 2.2428e-09\n",
      "Epoch 36/50\n",
      "9999/9999 [==============================] - 16s 2ms/step - loss: 2.2430e-09\n",
      "Epoch 37/50\n",
      "9999/9999 [==============================] - 16s 2ms/step - loss: 2.2430e-09\n",
      "Epoch 38/50\n",
      "9999/9999 [==============================] - 16s 2ms/step - loss: 2.2430e-09\n",
      "Epoch 39/50\n",
      "9999/9999 [==============================] - 16s 2ms/step - loss: 2.2430e-09\n",
      "Epoch 40/50\n",
      "9999/9999 [==============================] - 16s 2ms/step - loss: 2.2431e-09\n",
      "Epoch 41/50\n",
      "9999/9999 [==============================] - 16s 2ms/step - loss: 2.2431e-09\n",
      "Epoch 42/50\n",
      "9999/9999 [==============================] - 15s 2ms/step - loss: 2.2431e-09\n",
      "Epoch 43/50\n",
      "9999/9999 [==============================] - 15s 2ms/step - loss: 2.2431e-09\n",
      "Epoch 44/50\n",
      "9999/9999 [==============================] - 16s 2ms/step - loss: 2.2431e-09\n",
      "Epoch 45/50\n",
      "9999/9999 [==============================] - 16s 2ms/step - loss: 2.2431e-09\n",
      "Epoch 46/50\n",
      "9999/9999 [==============================] - 17s 2ms/step - loss: 2.2431e-09\n",
      "Epoch 47/50\n",
      "9999/9999 [==============================] - 17s 2ms/step - loss: 2.2431e-09: 0s - loss: 2.2492e-0\n",
      "Epoch 48/50\n",
      "9999/9999 [==============================] - 16s 2ms/step - loss: 2.2431e-09\n",
      "Epoch 49/50\n",
      "9999/9999 [==============================] - 16s 2ms/step - loss: 2.2431e-09\n",
      "Epoch 50/50\n",
      "9999/9999 [==============================] - 15s 2ms/step - loss: 2.2431e-09\n"
     ]
    },
    {
     "data": {
      "text/plain": [
       "<keras.callbacks.History at 0x2b2c9fc64a8>"
      ]
     },
     "execution_count": 23,
     "metadata": {},
     "output_type": "execute_result"
    }
   ],
   "source": [
    "model.compile(loss='mean_squared_error', optimizer='adam')\n",
    "model.fit(X_train,Y_train,epochs=50,batch_size=16,shuffle=False)"
   ]
  },
  {
   "cell_type": "code",
   "execution_count": 24,
   "metadata": {},
   "outputs": [],
   "source": [
    "predicted_price = model.predict(X_test)\n",
    "predicted_price = scaler.inverse_transform(predicted_price)\n",
    "real_price = scaler.inverse_transform(Y_test)"
   ]
  },
  {
   "cell_type": "code",
   "execution_count": 25,
   "metadata": {},
   "outputs": [],
   "source": [
    "import matplotlib.pyplot as plt"
   ]
  },
  {
   "cell_type": "code",
   "execution_count": 27,
   "metadata": {},
   "outputs": [
    {
     "data": {
      "image/png": "[encoded data removed]",
      "text/plain": [
       "<Figure size 1440x576 with 1 Axes>"
      ]
     },
     "metadata": {
      "needs_background": "light"
     },
     "output_type": "display_data"
    }
   ],
   "source": [
    "plt.figure(figsize=(20,8))\n",
    "plt.plot(predicted_price,color='red',label='Predicted price of bitcoin')\n",
    "plt.plot(real_price,color='blue',label='Real price of bitcoin')\n",
    "plt.title('predicted VS real price')\n",
    "plt.xlabel('time(ms)')\n",
    "plt.ylabel('price')\n",
    "plt.show()"
   ]
  },
  {
   "cell_type": "code",
   "execution_count": null,
   "metadata": {},
   "outputs": [],
   "source": []
  }
 ],
 "metadata": {
  "kernelspec": {
   "display_name": "Python 3",
   "language": "python",
   "name": "python3"
  },
  "language_info": {
   "codemirror_mode": {
    "name": "ipython",
    "version": 3
   },
   "file_extension": ".py",
   "mimetype": "text/x-python",
   "name": "python",
   "nbconvert_exporter": "python",
   "pygments_lexer": "ipython3",
   "version": "3.6.7"
  }
 },
 "nbformat": 4,
 "nbformat_minor": 2
}
